{
 "cells": [
  {
   "cell_type": "code",
   "execution_count": null,
   "id": "48b31f3a-f4ee-43a9-85dd-6c67924e1294",
   "metadata": {},
   "outputs": [],
   "source": [
    "# Using NLTK\n",
    "\n",
    "import nltk\n",
    "from nltk.tokenize import word_tokenize\n",
    "from nltk.tag import pos_tag\n",
    "from nltk.chunk import ne_chunk\n",
    "\n",
    "nltk.download('punkt')\n",
    "nltk.download('averaged_perceptron_tagger')\n",
    "nltk.download('maxent_ne_chunker')\n",
    "nltk.download('words')\n",
    "\n",
    "text = \"Barack Obama was the 44th president of the United States and he was born on August 4, 1961.\"\n",
    "\n",
    "# Tokenize and POS Tagging\n",
    "tokens = word_tokenize(text)\n",
    "tags = pos_tag(tokens)\n",
    "print(\"POS tagging with NLTK:\")\n",
    "print(tags)\n",
    "\n",
    "# Named Entity Recognition\n",
    "ner_tree = ne_chunk(tags)\n",
    "print(\"\\nNER with NLTK:\")\n",
    "for subtree in ner_tree:\n",
    "    if isinstance(subtree, nltk.Tree):\n",
    "        entity = \" \".join([word for word, tag in subtree.leaves()])\n",
    "        print(entity, \"->\", subtree.label())"
   ]
  },
  {
   "cell_type": "code",
   "execution_count": null,
   "id": "ce59838f-ee6a-4988-91db-d81b3236c639",
   "metadata": {},
   "outputs": [],
   "source": [
    "# Using spacy\n",
    "\n",
    "import spacy\n",
    "\n",
    "nlp = spacy.load(\"en_core_web_sm\")\n",
    "doc = nlp(text)\n",
    "\n",
    "# POS Tagging\n",
    "print(\"POS tagging with spaCy:\")\n",
    "for token in doc:\n",
    "    print(token.text, \"->\", token.pos_)\n",
    "\n",
    "# Named Entity Recognition\n",
    "print(\"\\nNER with spaCy:\")\n",
    "for ent in doc.ents:\n",
    "    print(ent.text, \"->\", ent.label_)"
   ]
  },
  {
   "cell_type": "code",
   "execution_count": null,
   "id": "ad2907af-e4ff-4767-948b-91efd24a4a64",
   "metadata": {},
   "outputs": [],
   "source": [
    "# Using TextBlob\n",
    "from textblob import TextBlob\n",
    "\n",
    "blob = TextBlob(text)\n",
    "\n",
    "# POS Tagging\n",
    "print(\"POS tagging with TextBlob:\")\n",
    "print(blob.tags)\n",
    "\n",
    "# Named Entity Recognition\n",
    "# Note: TextBlob uses NLTK's NER under the hood, so the results will be similar.\n",
    "print(\"\\nNER with TextBlob:\")\n",
    "for np in blob.noun_phrases:\n",
    "    print(np)"
   ]
  },
  {
   "cell_type": "code",
   "execution_count": null,
   "id": "509757ce-6e23-4a54-af37-2a097a3c4c41",
   "metadata": {},
   "outputs": [],
   "source": []
  }
 ],
 "metadata": {
  "kernelspec": {
   "display_name": "Python 3 (ipykernel)",
   "language": "python",
   "name": "python3"
  },
  "language_info": {
   "codemirror_mode": {
    "name": "ipython",
    "version": 3
   },
   "file_extension": ".py",
   "mimetype": "text/x-python",
   "name": "python",
   "nbconvert_exporter": "python",
   "pygments_lexer": "ipython3",
   "version": "3.10.12"
  }
 },
 "nbformat": 4,
 "nbformat_minor": 5
}
