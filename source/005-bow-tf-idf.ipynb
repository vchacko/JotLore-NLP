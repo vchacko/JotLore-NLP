{
 "cells": [
  {
   "cell_type": "code",
   "execution_count": null,
   "id": "16294ff7-2f8d-42b0-a671-182a0e588bc4",
   "metadata": {},
   "outputs": [],
   "source": [
    "#Bag of Words (BoW) with `sklearn`\n",
    "from sklearn.feature_extraction.text import CountVectorizer, TfidfVectorizer\n",
    "\n",
    "# Sample document\n",
    "documents = [\n",
    "    'JotLore is a nice initiative',\n",
    "    'Text analytics is fascinating.',\n",
    "    'I love exploring text data.',\n",
    "    'Text data is abundant and insightful.'\n",
    "]\n",
    "\n",
    "# For Bag of Words (BoW)\n",
    "vectorizer_bow = CountVectorizer()\n",
    "X_bow = vectorizer_bow.fit_transform(documents)\n",
    "bow_representation = X_bow.toarray()\n",
    "\n",
    "print(\"BoW Vocabulary: \", vectorizer_bow.get_feature_names_out())\n",
    "print(\"BoW Representation:\\n\", bow_representation)\n",
    "\n",
    "# For TF-IDF\n",
    "vectorizer_tfidf = TfidfVectorizer()\n",
    "X_tfidf = vectorizer_tfidf.fit_transform(documents)\n",
    "tfidf_representation = X_tfidf.toarray()\n",
    "\n",
    "print(\"\\nTF-IDF Vocabulary: \", vectorizer_tfidf.get_feature_names_out())\n",
    "print(\"TF-IDF Representation:\\n\", tfidf_representation)\n"
   ]
  }
 ],
 "metadata": {
  "kernelspec": {
   "display_name": "Python 3 (ipykernel)",
   "language": "python",
   "name": "python3"
  },
  "language_info": {
   "codemirror_mode": {
    "name": "ipython",
    "version": 3
   },
   "file_extension": ".py",
   "mimetype": "text/x-python",
   "name": "python",
   "nbconvert_exporter": "python",
   "pygments_lexer": "ipython3",
   "version": "3.10.12"
  }
 },
 "nbformat": 4,
 "nbformat_minor": 5
}
