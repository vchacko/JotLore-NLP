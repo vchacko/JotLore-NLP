{
 "cells": [
  {
   "cell_type": "code",
   "execution_count": null,
   "id": "bc21e61e-df74-40f9-b4cf-cf6d4d8799ed",
   "metadata": {},
   "outputs": [],
   "source": [
    "import nltk\n",
    "from nltk.stem import PorterStemmer, WordNetLemmatizer\n",
    "\n",
    "# Initialize stemmer and lemmatizer\n",
    "stemmer = PorterStemmer()\n",
    "lemmatizer = WordNetLemmatizer()\n",
    "\n",
    "# Stemming\n",
    "word = \"running\"\n",
    "stemmed_word = stemmer.stem(word)\n",
    "print(f\"Stemmed form of {word} is {stemmed_word}\")\n",
    "\n",
    "# Lemmatization\n",
    "lemma = lemmatizer.lemmatize(word, pos='v')  # 'v' indicates verb\n",
    "print(f\"Lemmatized form of {word} is {lemma}\")"
   ]
  },
  {
   "cell_type": "code",
   "execution_count": null,
   "id": "950df693-cd97-48ab-9448-88346fea86ba",
   "metadata": {},
   "outputs": [],
   "source": [
    "import spacy\n",
    "\n",
    "# Load the English model\n",
    "nlp = spacy.load(\"en_core_web_sm\")\n",
    "\n",
    "# Lemmatization (Note: spaCy doesn't have stemming built-in)\n",
    "doc = nlp(\"running\")\n",
    "for token in doc:\n",
    "    print(f\"Lemmatized form of {token.text} is {token.lemma_}\")"
   ]
  },
  {
   "cell_type": "code",
   "execution_count": null,
   "id": "59a4d039-4c09-4e4a-acc8-2b391d1f8129",
   "metadata": {},
   "outputs": [],
   "source": [
    "from textblob import TextBlob, Word\n",
    "\n",
    "# Stemming\n",
    "word = \"sharing\"\n",
    "stemmed_word = Word(word).stem()\n",
    "print(f\"Stemmed form of {word} is {stemmed_word}\")\n",
    "\n",
    "# Lemmatization\n",
    "lemma = Word(word).lemmatize(\"v\")\n",
    "print(f\"Lemmatized form of {word} is {lemma}\")"
   ]
  },
  {
   "cell_type": "code",
   "execution_count": null,
   "id": "22889065-8fb0-4959-8a14-6eab1783ea7a",
   "metadata": {},
   "outputs": [],
   "source": [
    "b=Word(\"better\")\n",
    "#Verb\n",
    "print(b.lemmatize(\"v\"))\n",
    "#Adjective\n",
    "print(b.lemmatize(\"a\"))\n",
    "#Noun\n",
    "print(b.lemmatize(\"n\"))\n",
    "#Abverb\n",
    "print(b.lemmatize(\"r\"))\n"
   ]
  },
  {
   "cell_type": "code",
   "execution_count": null,
   "id": "baf5925c-c120-42d4-9039-bc3582b81855",
   "metadata": {},
   "outputs": [],
   "source": [
    "\n",
    "# Some real lemmatization\n",
    "sentence = \"JotLore aims to empower and unite tech enthusiasts, fostering a space for ethical insights, collaborative growth, and transformative discussions in the digital realm.\"\n",
    "words = sentence.split(\" \")\n",
    "print(sentence)\n",
    "print([Word(w).stem() for w in words])\n",
    "print([Word(w).lemmatize(\"v\") for w in words])\n",
    "print([Word(w).lemmatize(\"a\") for w in words])\n",
    "print([Word(w).lemmatize(\"n\") for w in words])\n",
    "print([Word(w).lemmatize(\"r\") for w in words])"
   ]
  },
  {
   "cell_type": "code",
   "execution_count": null,
   "id": "534095a8-6394-466b-8dc9-59c59ff70745",
   "metadata": {},
   "outputs": [],
   "source": []
  }
 ],
 "metadata": {
  "kernelspec": {
   "display_name": "Python 3 (ipykernel)",
   "language": "python",
   "name": "python3"
  },
  "language_info": {
   "codemirror_mode": {
    "name": "ipython",
    "version": 3
   },
   "file_extension": ".py",
   "mimetype": "text/x-python",
   "name": "python",
   "nbconvert_exporter": "python",
   "pygments_lexer": "ipython3",
   "version": "3.10.12"
  }
 },
 "nbformat": 4,
 "nbformat_minor": 5
}
