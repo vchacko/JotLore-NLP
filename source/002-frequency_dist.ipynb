{
 "cells": [
  {
   "cell_type": "code",
   "execution_count": null,
   "id": "ad57eecd-d009-4f7a-bd3a-c9f00cd2cb49",
   "metadata": {},
   "outputs": [],
   "source": [
    "# 1. NLTK\n",
    "import nltk\n",
    "from nltk.collocations import BigramCollocationFinder, BigramAssocMeasures\n",
    "from nltk.corpus import stopwords\n",
    "from wordcloud import WordCloud\n",
    "import matplotlib.pyplot as plt\n"
   ]
  },
  {
   "cell_type": "code",
   "execution_count": null,
   "id": "b70e85ee-4ba8-468a-b507-e63dd7bfda96",
   "metadata": {},
   "outputs": [],
   "source": [
    "# Sample text\n",
    "text = \"Jot Lore newsletter and Natural Language Processing is fascinating. Language is essential. Processing is critical.\""
   ]
  },
  {
   "cell_type": "code",
   "execution_count": null,
   "id": "36193bee-8c67-4700-bdec-00b480d4e1cf",
   "metadata": {},
   "outputs": [],
   "source": [
    "# Frequency Distribution\n",
    "words = nltk.word_tokenize(text)\n",
    "fd = nltk.FreqDist(words)\n",
    "print(fd.most_common(5))"
   ]
  },
  {
   "cell_type": "code",
   "execution_count": null,
   "id": "ef128c6f-0925-4406-88d6-3ec667f9bbee",
   "metadata": {},
   "outputs": [],
   "source": [
    "# Word Cloud\n",
    "wordcloud = WordCloud(width=800, height=400).generate(text)\n",
    "plt.figure(figsize=(10, 7))\n",
    "plt.imshow(wordcloud, interpolation='bilinear')\n",
    "plt.axis('off')\n",
    "plt.show()"
   ]
  },
  {
   "cell_type": "code",
   "execution_count": null,
   "id": "d2ac64ea-2c56-4273-b1c8-9d1834fab481",
   "metadata": {},
   "outputs": [],
   "source": [
    "# Collocations\n",
    "bigram_measures = BigramAssocMeasures()\n",
    "finder = BigramCollocationFinder.from_words(words)\n",
    "finder.nbest(bigram_measures.pmi, 5) # Top-5 collocations"
   ]
  },
  {
   "cell_type": "code",
   "execution_count": null,
   "id": "5b029556-fe8b-41be-aa61-f9720acb6901",
   "metadata": {},
   "outputs": [],
   "source": [
    "# 2. spaCy\n",
    "\n",
    "import spacy\n",
    "from spacy import displacy\n",
    "from collections import Counter\n",
    "from wordcloud import WordCloud\n",
    "import matplotlib.pyplot as plt"
   ]
  },
  {
   "cell_type": "code",
   "execution_count": null,
   "id": "89a0e582-d2f1-4d74-8278-8194dfb99e1e",
   "metadata": {},
   "outputs": [],
   "source": [
    "# Load model\n",
    "nlp = spacy.load(\"en_core_web_sm\")"
   ]
  },
  {
   "cell_type": "code",
   "execution_count": null,
   "id": "1401d5ed-c42a-4fb2-8d81-cdae72b7a242",
   "metadata": {},
   "outputs": [],
   "source": [
    "# Sample text\n",
    "text = \"Jot Lore newsletter and Natural Language Processing is fascinating. Language is essential. Processing is critical.\"\n",
    "doc = nlp(text)"
   ]
  },
  {
   "cell_type": "code",
   "execution_count": null,
   "id": "3692a0fd-4bdb-4471-9456-fe689ce2e911",
   "metadata": {},
   "outputs": [],
   "source": [
    "# Frequency Distribution\n",
    "word_freq = Counter([token.text for token in doc if not token.is_stop])\n",
    "print(word_freq.most_common(5))"
   ]
  },
  {
   "cell_type": "code",
   "execution_count": null,
   "id": "fba14bd8-c647-4568-807d-1e4519f14e0e",
   "metadata": {},
   "outputs": [],
   "source": [
    "# Word Cloud\n",
    "wordcloud = WordCloud(width=800, height=400).generate(text)\n",
    "plt.figure(figsize=(10, 7))\n",
    "plt.imshow(wordcloud, interpolation='bilinear')\n",
    "plt.axis('off')\n",
    "plt.show()"
   ]
  },
  {
   "cell_type": "code",
   "execution_count": null,
   "id": "913ac416-6103-4f3d-9fc6-af3bb9572a42",
   "metadata": {},
   "outputs": [],
   "source": [
    "#3. textBlob"
   ]
  },
  {
   "cell_type": "code",
   "execution_count": null,
   "id": "e26b9f75-576d-4b5e-8419-0caacaa63e68",
   "metadata": {},
   "outputs": [],
   "source": [
    "from textblob import TextBlob\n",
    "from wordcloud import WordCloud\n",
    "import matplotlib.pyplot as plt"
   ]
  },
  {
   "cell_type": "code",
   "execution_count": null,
   "id": "072ed178-538c-4e5e-9f77-d54e648933fe",
   "metadata": {},
   "outputs": [],
   "source": [
    "# Sample text\n",
    "text = \"Jot Lore newsletter and Natural Language Processing is fascinating. Language is essential. Processing is critical.\"\n",
    "blob = TextBlob(text)"
   ]
  },
  {
   "cell_type": "code",
   "execution_count": null,
   "id": "47de35ba-dc94-422b-8916-fe18e016dfbe",
   "metadata": {},
   "outputs": [],
   "source": [
    "# Frequency Distribution\n",
    "word_freq = blob.word_counts\n",
    "print(word_freq)"
   ]
  },
  {
   "cell_type": "code",
   "execution_count": null,
   "id": "7aff5b3a-944b-4f9e-9511-fe10bfbee62e",
   "metadata": {},
   "outputs": [],
   "source": [
    "# Word Cloud\n",
    "wordcloud = WordCloud(width=800, height=400).generate(text)\n",
    "plt.figure(figsize=(10, 7))\n",
    "plt.imshow(wordcloud, interpolation='bilinear')\n",
    "plt.axis('off')\n",
    "plt.show()"
   ]
  },
  {
   "cell_type": "code",
   "execution_count": null,
   "id": "43709488-30a5-4c76-8d4c-50548443a3b4",
   "metadata": {},
   "outputs": [],
   "source": [
    "# Collocations\n",
    "blob.noun_phrases"
   ]
  },
  {
   "cell_type": "code",
   "execution_count": null,
   "id": "5eb1950b-e7d7-46f6-a681-d48b57fb132c",
   "metadata": {},
   "outputs": [],
   "source": []
  }
 ],
 "metadata": {
  "kernelspec": {
   "display_name": "Python 3 (ipykernel)",
   "language": "python",
   "name": "python3"
  },
  "language_info": {
   "codemirror_mode": {
    "name": "ipython",
    "version": 3
   },
   "file_extension": ".py",
   "mimetype": "text/x-python",
   "name": "python",
   "nbconvert_exporter": "python",
   "pygments_lexer": "ipython3",
   "version": "3.10.12"
  }
 },
 "nbformat": 4,
 "nbformat_minor": 5
}
