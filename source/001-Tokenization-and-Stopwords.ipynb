{
 "cells": [
  {
   "cell_type": "code",
   "execution_count": null,
   "id": "f550808e-1116-415e-892f-78de1cb727a8",
   "metadata": {},
   "outputs": [],
   "source": [
    "#1. With NLTK\n",
    "#Prerequisite: You need to have nltk installed and also download the necessary datasets."
   ]
  },
  {
   "cell_type": "code",
   "execution_count": null,
   "id": "e7df5f8e-32a5-4870-b0f1-dcb8cd84b39e",
   "metadata": {},
   "outputs": [],
   "source": [
    "import nltk\n",
    "from nltk.corpus import stopwords\n",
    "nltk.download('punkt')\n",
    "nltk.download('stopwords')"
   ]
  },
  {
   "cell_type": "code",
   "execution_count": null,
   "id": "0fd95222-0a09-481c-b946-dbfc23eec16f",
   "metadata": {},
   "outputs": [],
   "source": [
    "# Word Tokenization:\n",
    "\n",
    "text = \"Jot Lore is fascinating!\"\n",
    "words = nltk.word_tokenize(text)\n",
    "print(words)"
   ]
  },
  {
   "cell_type": "code",
   "execution_count": null,
   "id": "444f6ae1-43e4-4dbe-afdf-755234b8aeb5",
   "metadata": {},
   "outputs": [],
   "source": [
    "# Sentence Tokenization:\n",
    "\n",
    "text = \"Jot Lore is fascinating. Let's learn more.\"\n",
    "sentences = nltk.sent_tokenize(text)\n",
    "print(sentences)"
   ]
  },
  {
   "cell_type": "code",
   "execution_count": null,
   "id": "f1fa2dd4-47d0-4a3f-a4f5-0ca9120fa735",
   "metadata": {},
   "outputs": [],
   "source": [
    "# Stopwords Removal:\n",
    "\n",
    "stop_words = set(stopwords.words('english'))\n",
    "filtered_words = [word for word in nltk.word_tokenize(text) if word.lower() not in stop_words]\n",
    "print(filtered_words)"
   ]
  },
  {
   "cell_type": "code",
   "execution_count": null,
   "id": "d5a2aad2-5c52-4696-bc98-3675240b053a",
   "metadata": {},
   "outputs": [],
   "source": [
    "# 2. spaCy\n",
    "# Prerequisite: You need to have `spacy` installed and also load the necessary model."
   ]
  },
  {
   "cell_type": "code",
   "execution_count": null,
   "id": "ab1361e1-594a-46f9-ba46-cc0f5606bf10",
   "metadata": {},
   "outputs": [],
   "source": [
    "import spacy\n",
    "nlp = spacy.load('en_core_web_sm')"
   ]
  },
  {
   "cell_type": "code",
   "execution_count": null,
   "id": "59aa40fd-b963-4bad-ac07-a5e83c4ff3c6",
   "metadata": {},
   "outputs": [],
   "source": [
    "# Word Tokenization:\n",
    "\n",
    "text = \"Jot Lore is fascinating!\"\n",
    "doc = nlp(text)\n",
    "words = [token.text for token in doc]\n",
    "print(words)"
   ]
  },
  {
   "cell_type": "code",
   "execution_count": null,
   "id": "aee662ab-9de4-4ea5-8775-f0efc9b50f7d",
   "metadata": {},
   "outputs": [],
   "source": [
    "# Sentence Tokenization:\n",
    "\n",
    "text = \"Jot Lore is fascinating. Let's learn more.\"\n",
    "doc = nlp(text)\n",
    "sentences = [sent.text for sent in doc.sents]\n",
    "print(sentences)"
   ]
  },
  {
   "cell_type": "code",
   "execution_count": null,
   "id": "046f6bc0-5801-4547-8997-412415995670",
   "metadata": {},
   "outputs": [],
   "source": [
    "# Stopwords Removal:\n",
    "\n",
    "filtered_words = [token.text for token in doc if not token.is_stop]\n",
    "print(filtered_words)"
   ]
  },
  {
   "cell_type": "code",
   "execution_count": null,
   "id": "b98bd063-81a1-4888-8219-ffca0fd21492",
   "metadata": {},
   "outputs": [],
   "source": [
    "# 3. TextBlob\n",
    "# Prerequisite: You need to have `textblob` installed."
   ]
  },
  {
   "cell_type": "code",
   "execution_count": null,
   "id": "5fac6adc-177f-4b34-8189-0548a460854b",
   "metadata": {},
   "outputs": [],
   "source": [
    "from textblob import TextBlob"
   ]
  },
  {
   "cell_type": "code",
   "execution_count": null,
   "id": "6ba3aac4-8422-4932-84d9-f03d8b09ca80",
   "metadata": {},
   "outputs": [],
   "source": [
    "# Word Tokenization:\n",
    "\n",
    "text = \"Jot Lore is fascinating!\"\n",
    "blob = TextBlob(text)\n",
    "words = blob.words\n",
    "print(words)"
   ]
  },
  {
   "cell_type": "code",
   "execution_count": null,
   "id": "af4fc2d8-1f43-4f61-9fcf-8dd9aba16896",
   "metadata": {},
   "outputs": [],
   "source": [
    "# Sentence Tokenization:\n",
    "\n",
    "text = \"Jot Lore is fascinating. Let's learn more.\"\n",
    "blob = TextBlob(text)\n",
    "sentences = blob.sentences\n",
    "print([sent.string for sent in sentences])"
   ]
  },
  {
   "cell_type": "code",
   "execution_count": null,
   "id": "46cb1b5d-7b2f-49f3-908b-1832a9ba60a0",
   "metadata": {},
   "outputs": [],
   "source": [
    "# Stopwords Removal using NLTK (since TextBlob doesn't have a native stopword list):\n",
    "\n",
    "stop_words = set(stopwords.words('english'))\n",
    "filtered_words = [word for word in blob.words if word.lower() not in stop_words]\n",
    "print(filtered_words)"
   ]
  },
  {
   "cell_type": "code",
   "execution_count": null,
   "id": "dd9e74b0-b98b-4936-86ae-dead60996bf1",
   "metadata": {},
   "outputs": [],
   "source": []
  }
 ],
 "metadata": {
  "kernelspec": {
   "display_name": "Python 3 (ipykernel)",
   "language": "python",
   "name": "python3"
  },
  "language_info": {
   "codemirror_mode": {
    "name": "ipython",
    "version": 3
   },
   "file_extension": ".py",
   "mimetype": "text/x-python",
   "name": "python",
   "nbconvert_exporter": "python",
   "pygments_lexer": "ipython3",
   "version": "3.10.12"
  }
 },
 "nbformat": 4,
 "nbformat_minor": 5
}
